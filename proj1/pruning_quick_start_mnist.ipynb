{
 "cells": [
  {
   "cell_type": "code",
   "execution_count": 1,
   "metadata": {
    "collapsed": false,
    "jupyter": {
     "outputs_hidden": false
    }
   },
   "outputs": [],
   "source": [
    "%matplotlib inline"
   ]
  },
  {
   "cell_type": "markdown",
   "metadata": {},
   "source": [
    "\n",
    "# Pruning Quickstart\n",
    "\n",
    "Here is a three-minute video to get you started with model pruning.\n",
    "\n",
    "..  youtube:: wKh51Jnr0a8\n",
    "    :align: center\n",
    "\n",
    "Model pruning is a technique to reduce the model size and computation by reducing model weight size or intermediate state size.\n",
    "There are three common practices for pruning a DNN model:\n",
    "\n",
    "#. Pre-training a model -> Pruning the model -> Fine-tuning the pruned model\n",
    "#. Pruning a model during training (i.e., pruning aware training) -> Fine-tuning the pruned model\n",
    "#. Pruning a model -> Training the pruned model from scratch\n",
    "\n",
    "NNI supports all of the above pruning practices by working on the key pruning stage.\n",
    "Following this tutorial for a quick look at how to use NNI to prune a model in a common practice.\n"
   ]
  },
  {
   "cell_type": "markdown",
   "metadata": {},
   "source": [
    "## Preparation\n",
    "\n",
    "In this tutorial, we use a simple model and pre-trained on MNIST dataset.\n",
    "If you are familiar with defining a model and training in pytorch, you can skip directly to `Pruning Model`_.\n",
    "\n"
   ]
  },
  {
   "cell_type": "code",
   "execution_count": 2,
   "metadata": {
    "collapsed": false,
    "jupyter": {
     "outputs_hidden": false
    }
   },
   "outputs": [
    {
     "name": "stdout",
     "output_type": "stream",
     "text": [
      "TorchModel(\n",
      "  (conv1): Conv2d(1, 6, kernel_size=(5, 5), stride=(1, 1))\n",
      "  (conv2): Conv2d(6, 16, kernel_size=(5, 5), stride=(1, 1))\n",
      "  (fc1): Linear(in_features=256, out_features=120, bias=True)\n",
      "  (fc2): Linear(in_features=120, out_features=84, bias=True)\n",
      "  (fc3): Linear(in_features=84, out_features=10, bias=True)\n",
      "  (relu1): ReLU()\n",
      "  (relu2): ReLU()\n",
      "  (relu3): ReLU()\n",
      "  (relu4): ReLU()\n",
      "  (pool1): MaxPool2d(kernel_size=(2, 2), stride=(2, 2), padding=0, dilation=1, ceil_mode=False)\n",
      "  (pool2): MaxPool2d(kernel_size=(2, 2), stride=(2, 2), padding=0, dilation=1, ceil_mode=False)\n",
      ")\n"
     ]
    }
   ],
   "source": [
    "import nni\n",
    "import torch\n",
    "import torch.nn.functional as F\n",
    "from torch.optim import SGD\n",
    "\n",
    "from compression_mnist_model import TorchModel, trainer, evaluator, device\n",
    "\n",
    "# define the model\n",
    "model = TorchModel().to(device)\n",
    "\n",
    "# show the model structure, note that pruner will wrap the model layer.\n",
    "print(model)"
   ]
  },
  {
   "cell_type": "code",
   "execution_count": 3,
   "metadata": {
    "collapsed": false,
    "jupyter": {
     "outputs_hidden": false
    }
   },
   "outputs": [
    {
     "name": "stdout",
     "output_type": "stream",
     "text": [
      "Average test loss: 0.4729, Accuracy: 8523/10000 (85%)\n",
      "Average test loss: 0.2484, Accuracy: 9273/10000 (93%)\n",
      "Average test loss: 0.1732, Accuracy: 9481/10000 (95%)\n"
     ]
    }
   ],
   "source": [
    "# define the optimizer and criterion for pre-training\n",
    "\n",
    "optimizer = SGD(model.parameters(), 1e-2)\n",
    "criterion = F.nll_loss\n",
    "\n",
    "# pre-train and evaluate the model on MNIST dataset\n",
    "for epoch in range(3):\n",
    "    trainer(model, optimizer, criterion)\n",
    "    evaluator(model)"
   ]
  },
  {
   "cell_type": "markdown",
   "metadata": {},
   "source": [
    "## Pruning Model\n",
    "\n",
    "Using L1NormPruner to prune the model and generate the masks.\n",
    "Usually, a pruner requires original model and ``config_list`` as its inputs.\n",
    "Detailed about how to write ``config_list`` please refer :doc:`compression config specification <../compression/compression_config_list>`.\n",
    "\n",
    "The following `config_list` means all layers whose type is `Linear` or `Conv2d` will be pruned,\n",
    "except the layer named `fc3`, because `fc3` is `exclude`.\n",
    "The final sparsity ratio for each layer is 50%. The layer named `fc3` will not be pruned.\n",
    "\n"
   ]
  },
  {
   "cell_type": "code",
   "execution_count": 4,
   "metadata": {
    "collapsed": false,
    "jupyter": {
     "outputs_hidden": false
    }
   },
   "outputs": [],
   "source": [
    "config_list = [{\n",
    "    'sparsity_per_layer': 0.5,\n",
    "    'op_types': ['Linear', 'Conv2d']\n",
    "}, {\n",
    "    'exclude': True,\n",
    "    'op_names': ['fc3']\n",
    "}]"
   ]
  },
  {
   "cell_type": "markdown",
   "metadata": {},
   "source": [
    "Pruners usually require `model` and `config_list` as input arguments.\n",
    "\n"
   ]
  },
  {
   "cell_type": "code",
   "execution_count": 7,
   "metadata": {
    "collapsed": false,
    "jupyter": {
     "outputs_hidden": false
    }
   },
   "outputs": [
    {
     "name": "stdout",
     "output_type": "stream",
     "text": [
      "TorchModel(\n",
      "  (conv1): PrunerModuleWrapper(\n",
      "    (module): Conv2d(1, 6, kernel_size=(5, 5), stride=(1, 1))\n",
      "  )\n",
      "  (conv2): PrunerModuleWrapper(\n",
      "    (module): Conv2d(6, 16, kernel_size=(5, 5), stride=(1, 1))\n",
      "  )\n",
      "  (fc1): PrunerModuleWrapper(\n",
      "    (module): Linear(in_features=256, out_features=120, bias=True)\n",
      "  )\n",
      "  (fc2): PrunerModuleWrapper(\n",
      "    (module): Linear(in_features=120, out_features=84, bias=True)\n",
      "  )\n",
      "  (fc3): Linear(in_features=84, out_features=10, bias=True)\n",
      "  (relu1): ReLU()\n",
      "  (relu2): ReLU()\n",
      "  (relu3): ReLU()\n",
      "  (relu4): ReLU()\n",
      "  (pool1): MaxPool2d(kernel_size=(2, 2), stride=(2, 2), padding=0, dilation=1, ceil_mode=False)\n",
      "  (pool2): MaxPool2d(kernel_size=(2, 2), stride=(2, 2), padding=0, dilation=1, ceil_mode=False)\n",
      ")\n"
     ]
    }
   ],
   "source": [
    "from nni.compression.pytorch.pruning import L1NormPruner\n",
    "pruner = L1NormPruner(model, config_list)\n",
    "\n",
    "# show the wrapped model structure, `PrunerModuleWrapper` have wrapped the layers that configured in the config_list.\n",
    "print(model)"
   ]
  },
  {
   "cell_type": "code",
   "execution_count": 15,
   "metadata": {},
   "outputs": [
    {
     "name": "stdout",
     "output_type": "stream",
     "text": [
      "Collecting tensorboard==2.8.0\n",
      "  Downloading tensorboard-2.8.0-py3-none-any.whl (5.8 MB)\n",
      "\u001b[2K     \u001b[38;2;114;156;31m━━━━━━━━━━━━━━━━━━━━━━━━━━━━━━━━━━━━━━━━\u001b[0m \u001b[32m5.8/5.8 MB\u001b[0m \u001b[31m9.9 MB/s\u001b[0m eta \u001b[36m0:00:00\u001b[0m\u001b[36m0:00:01\u001b[0mm eta \u001b[36m0:00:01\u001b[0m\n",
      "\u001b[?25hRequirement already satisfied: protobuf>=3.6.0 in /Users/briancpark/miniforge3/envs/csc791/lib/python3.10/site-packages (from tensorboard==2.8.0) (3.20.1)\n",
      "Requirement already satisfied: werkzeug>=0.11.15 in /Users/briancpark/miniforge3/envs/csc791/lib/python3.10/site-packages (from tensorboard==2.8.0) (2.2.2)\n",
      "Requirement already satisfied: requests<3,>=2.21.0 in /Users/briancpark/miniforge3/envs/csc791/lib/python3.10/site-packages (from tensorboard==2.8.0) (2.28.1)\n",
      "Requirement already satisfied: grpcio>=1.24.3 in /Users/briancpark/miniforge3/envs/csc791/lib/python3.10/site-packages (from tensorboard==2.8.0) (1.49.1)\n",
      "Requirement already satisfied: setuptools>=41.0.0 in /Users/briancpark/miniforge3/envs/csc791/lib/python3.10/site-packages (from tensorboard==2.8.0) (65.3.0)\n",
      "Requirement already satisfied: absl-py>=0.4 in /Users/briancpark/miniforge3/envs/csc791/lib/python3.10/site-packages (from tensorboard==2.8.0) (1.2.0)\n",
      "Requirement already satisfied: tensorboard-plugin-wit>=1.6.0 in /Users/briancpark/miniforge3/envs/csc791/lib/python3.10/site-packages (from tensorboard==2.8.0) (1.8.1)\n",
      "Requirement already satisfied: wheel>=0.26 in /Users/briancpark/miniforge3/envs/csc791/lib/python3.10/site-packages (from tensorboard==2.8.0) (0.37.1)\n",
      "Requirement already satisfied: google-auth-oauthlib<0.5,>=0.4.1 in /Users/briancpark/miniforge3/envs/csc791/lib/python3.10/site-packages (from tensorboard==2.8.0) (0.4.6)\n",
      "Requirement already satisfied: markdown>=2.6.8 in /Users/briancpark/miniforge3/envs/csc791/lib/python3.10/site-packages (from tensorboard==2.8.0) (3.4.1)\n",
      "Requirement already satisfied: numpy>=1.12.0 in /Users/briancpark/miniforge3/envs/csc791/lib/python3.10/site-packages (from tensorboard==2.8.0) (1.23.2)\n",
      "Requirement already satisfied: tensorboard-data-server<0.7.0,>=0.6.0 in /Users/briancpark/miniforge3/envs/csc791/lib/python3.10/site-packages (from tensorboard==2.8.0) (0.6.1)\n",
      "Requirement already satisfied: google-auth<3,>=1.6.3 in /Users/briancpark/miniforge3/envs/csc791/lib/python3.10/site-packages (from tensorboard==2.8.0) (2.11.1)\n",
      "Requirement already satisfied: cachetools<6.0,>=2.0.0 in /Users/briancpark/miniforge3/envs/csc791/lib/python3.10/site-packages (from google-auth<3,>=1.6.3->tensorboard==2.8.0) (5.2.0)\n",
      "Requirement already satisfied: pyasn1-modules>=0.2.1 in /Users/briancpark/miniforge3/envs/csc791/lib/python3.10/site-packages (from google-auth<3,>=1.6.3->tensorboard==2.8.0) (0.2.8)\n",
      "Requirement already satisfied: rsa<5,>=3.1.4 in /Users/briancpark/miniforge3/envs/csc791/lib/python3.10/site-packages (from google-auth<3,>=1.6.3->tensorboard==2.8.0) (4.9)\n",
      "Requirement already satisfied: six>=1.9.0 in /Users/briancpark/miniforge3/envs/csc791/lib/python3.10/site-packages (from google-auth<3,>=1.6.3->tensorboard==2.8.0) (1.16.0)\n",
      "Requirement already satisfied: requests-oauthlib>=0.7.0 in /Users/briancpark/miniforge3/envs/csc791/lib/python3.10/site-packages (from google-auth-oauthlib<0.5,>=0.4.1->tensorboard==2.8.0) (1.3.1)\n",
      "Requirement already satisfied: charset-normalizer<3,>=2 in /Users/briancpark/miniforge3/envs/csc791/lib/python3.10/site-packages (from requests<3,>=2.21.0->tensorboard==2.8.0) (2.1.1)\n",
      "Requirement already satisfied: idna<4,>=2.5 in /Users/briancpark/miniforge3/envs/csc791/lib/python3.10/site-packages (from requests<3,>=2.21.0->tensorboard==2.8.0) (3.3)\n",
      "Requirement already satisfied: certifi>=2017.4.17 in /Users/briancpark/miniforge3/envs/csc791/lib/python3.10/site-packages (from requests<3,>=2.21.0->tensorboard==2.8.0) (2022.6.15)\n",
      "Requirement already satisfied: urllib3<1.27,>=1.21.1 in /Users/briancpark/miniforge3/envs/csc791/lib/python3.10/site-packages (from requests<3,>=2.21.0->tensorboard==2.8.0) (1.26.11)\n",
      "Requirement already satisfied: MarkupSafe>=2.1.1 in /Users/briancpark/miniforge3/envs/csc791/lib/python3.10/site-packages (from werkzeug>=0.11.15->tensorboard==2.8.0) (2.1.1)\n",
      "Requirement already satisfied: pyasn1<0.5.0,>=0.4.6 in /Users/briancpark/miniforge3/envs/csc791/lib/python3.10/site-packages (from pyasn1-modules>=0.2.1->google-auth<3,>=1.6.3->tensorboard==2.8.0) (0.4.8)\n",
      "Requirement already satisfied: oauthlib>=3.0.0 in /Users/briancpark/miniforge3/envs/csc791/lib/python3.10/site-packages (from requests-oauthlib>=0.7.0->google-auth-oauthlib<0.5,>=0.4.1->tensorboard==2.8.0) (3.2.1)\n",
      "Installing collected packages: tensorboard\n",
      "  Attempting uninstall: tensorboard\n",
      "    Found existing installation: tensorboard 2.10.0\n",
      "    Uninstalling tensorboard-2.10.0:\n",
      "      Successfully uninstalled tensorboard-2.10.0\n",
      "Successfully installed tensorboard-2.8.0\n"
     ]
    }
   ],
   "source": [
    "!pip3 install tensorboard==2.8.0"
   ]
  },
  {
   "cell_type": "code",
   "execution_count": 8,
   "metadata": {
    "collapsed": false,
    "jupyter": {
     "outputs_hidden": false
    }
   },
   "outputs": [
    {
     "name": "stdout",
     "output_type": "stream",
     "text": [
      "conv1  sparsity :  0.5\n",
      "conv2  sparsity :  0.5\n",
      "fc1  sparsity :  0.5\n",
      "fc2  sparsity :  0.5\n"
     ]
    }
   ],
   "source": [
    "# compress the model and generate the masks\n",
    "_, masks = pruner.compress()\n",
    "# show the masks sparsity\n",
    "for name, mask in masks.items():\n",
    "    print(name, ' sparsity : ', '{:.2}'.format(mask['weight'].sum() / mask['weight'].numel()))"
   ]
  },
  {
   "cell_type": "markdown",
   "metadata": {},
   "source": [
    "Speedup the original model with masks, note that `ModelSpeedup` requires an unwrapped model.\n",
    "The model becomes smaller after speedup,\n",
    "and reaches a higher sparsity ratio because `ModelSpeedup` will propagate the masks across layers.\n",
    "\n"
   ]
  },
  {
   "cell_type": "code",
   "execution_count": 9,
   "metadata": {
    "collapsed": false,
    "jupyter": {
     "outputs_hidden": false
    }
   },
   "outputs": [
    {
     "name": "stdout",
     "output_type": "stream",
     "text": [
      "[2022-09-23 11:10:38] \u001b[32mstart to speedup the model\u001b[0m\n",
      "[2022-09-23 11:10:38] \u001b[32minfer module masks...\u001b[0m\n",
      "[2022-09-23 11:10:38] \u001b[32mUpdate mask for conv1\u001b[0m\n",
      "[2022-09-23 11:10:38] \u001b[32mUpdate mask for relu1\u001b[0m\n",
      "[2022-09-23 11:10:38] \u001b[32mUpdate mask for pool1\u001b[0m\n",
      "[2022-09-23 11:10:38] \u001b[32mUpdate mask for conv2\u001b[0m\n",
      "[2022-09-23 11:10:38] \u001b[32mUpdate mask for relu2\u001b[0m\n",
      "[2022-09-23 11:10:38] \u001b[32mUpdate mask for pool2\u001b[0m\n",
      "[2022-09-23 11:10:38] \u001b[32mUpdate mask for .aten::flatten.11\u001b[0m\n",
      "[2022-09-23 11:10:38] \u001b[32mUpdate mask for fc1\u001b[0m\n",
      "[2022-09-23 11:10:38] \u001b[32mUpdate mask for relu3\u001b[0m\n",
      "[2022-09-23 11:10:38] \u001b[32mUpdate mask for fc2\u001b[0m\n",
      "[2022-09-23 11:10:38] \u001b[32mUpdate mask for relu4\u001b[0m\n",
      "[2022-09-23 11:10:38] \u001b[32mUpdate mask for fc3\u001b[0m\n",
      "[2022-09-23 11:10:38] \u001b[32mUpdate mask for .aten::log_softmax.12\u001b[0m\n",
      "[2022-09-23 11:10:38] \u001b[32mUpdate the indirect sparsity for the .aten::log_softmax.12\u001b[0m\n",
      "[2022-09-23 11:10:38] \u001b[32mUpdate the indirect sparsity for the fc3\u001b[0m\n",
      "[2022-09-23 11:10:38] \u001b[32mUpdate the indirect sparsity for the relu4\u001b[0m\n",
      "[2022-09-23 11:10:38] \u001b[32mUpdate the indirect sparsity for the fc2\u001b[0m\n",
      "[2022-09-23 11:10:38] \u001b[32mUpdate the indirect sparsity for the relu3\u001b[0m\n",
      "[2022-09-23 11:10:38] \u001b[32mUpdate the indirect sparsity for the fc1\u001b[0m\n",
      "[2022-09-23 11:10:38] \u001b[32mUpdate the indirect sparsity for the .aten::flatten.11\u001b[0m\n",
      "[2022-09-23 11:10:38] \u001b[32mUpdate the indirect sparsity for the pool2\u001b[0m\n",
      "[2022-09-23 11:10:38] \u001b[32mUpdate the indirect sparsity for the relu2\u001b[0m\n",
      "[2022-09-23 11:10:38] \u001b[32mUpdate the indirect sparsity for the conv2\u001b[0m\n",
      "[2022-09-23 11:10:38] \u001b[32mUpdate the indirect sparsity for the pool1\u001b[0m\n",
      "[2022-09-23 11:10:38] \u001b[32mUpdate the indirect sparsity for the relu1\u001b[0m\n",
      "[2022-09-23 11:10:38] \u001b[32mUpdate the indirect sparsity for the conv1\u001b[0m\n",
      "[2022-09-23 11:10:38] \u001b[32mresolve the mask conflict\u001b[0m\n",
      "[2022-09-23 11:10:38] \u001b[32mreplace compressed modules...\u001b[0m\n",
      "[2022-09-23 11:10:38] \u001b[32mreplace module (name: conv1, op_type: Conv2d)\u001b[0m\n",
      "[2022-09-23 11:10:38] \u001b[32mreplace module (name: relu1, op_type: ReLU)\u001b[0m\n",
      "[2022-09-23 11:10:38] \u001b[32mreplace module (name: pool1, op_type: MaxPool2d)\u001b[0m\n",
      "[2022-09-23 11:10:38] \u001b[32mreplace module (name: conv2, op_type: Conv2d)\u001b[0m\n",
      "[2022-09-23 11:10:38] \u001b[32mreplace module (name: relu2, op_type: ReLU)\u001b[0m\n",
      "[2022-09-23 11:10:38] \u001b[32mreplace module (name: pool2, op_type: MaxPool2d)\u001b[0m\n",
      "[2022-09-23 11:10:38] \u001b[32mreplace module (name: fc1, op_type: Linear)\u001b[0m\n",
      "[2022-09-23 11:10:38] \u001b[32mreplace linear with new in_features: 128, out_features: 60\u001b[0m\n",
      "[2022-09-23 11:10:38] \u001b[32mreplace module (name: relu3, op_type: ReLU)\u001b[0m\n",
      "[2022-09-23 11:10:38] \u001b[32mreplace module (name: fc2, op_type: Linear)\u001b[0m\n",
      "[2022-09-23 11:10:38] \u001b[32mreplace linear with new in_features: 60, out_features: 42\u001b[0m\n",
      "[2022-09-23 11:10:38] \u001b[32mreplace module (name: relu4, op_type: ReLU)\u001b[0m\n",
      "[2022-09-23 11:10:38] \u001b[32mreplace module (name: fc3, op_type: Linear)\u001b[0m\n",
      "[2022-09-23 11:10:38] \u001b[32mreplace linear with new in_features: 42, out_features: 10\u001b[0m\n",
      "[2022-09-23 11:10:38] \u001b[32mspeedup done\u001b[0m\n"
     ]
    },
    {
     "name": "stderr",
     "output_type": "stream",
     "text": [
      "/home/bcpark/.conda/envs/csc791/lib/python3.10/site-packages/torch/_tensor.py:1083: UserWarning: The .grad attribute of a Tensor that is not a leaf Tensor is being accessed. Its .grad attribute won't be populated during autograd.backward(). If you indeed want the .grad field to be populated for a non-leaf Tensor, use .retain_grad() on the non-leaf Tensor. If you access the non-leaf Tensor by mistake, make sure you access the leaf Tensor instead. See github.com/pytorch/pytorch/pull/30531 for more informations. (Triggered internally at  aten/src/ATen/core/TensorBody.h:482.)\n",
      "  return self._grad\n"
     ]
    }
   ],
   "source": [
    "# need to unwrap the model, if the model is wrapped before speedup\n",
    "pruner._unwrap_model()\n",
    "\n",
    "# speedup the model, for more information about speedup, please refer :doc:`pruning_speedup`.\n",
    "from nni.compression.pytorch.speedup import ModelSpeedup\n",
    "\n",
    "ModelSpeedup(model, torch.rand(3, 1, 28, 28).to(device), masks).speedup_model()"
   ]
  },
  {
   "cell_type": "markdown",
   "metadata": {},
   "source": [
    "the model will become real smaller after speedup\n",
    "\n"
   ]
  },
  {
   "cell_type": "code",
   "execution_count": 10,
   "metadata": {
    "collapsed": false,
    "jupyter": {
     "outputs_hidden": false
    }
   },
   "outputs": [
    {
     "name": "stdout",
     "output_type": "stream",
     "text": [
      "TorchModel(\n",
      "  (conv1): Conv2d(1, 3, kernel_size=(5, 5), stride=(1, 1))\n",
      "  (conv2): Conv2d(3, 8, kernel_size=(5, 5), stride=(1, 1))\n",
      "  (fc1): Linear(in_features=128, out_features=60, bias=True)\n",
      "  (fc2): Linear(in_features=60, out_features=42, bias=True)\n",
      "  (fc3): Linear(in_features=42, out_features=10, bias=True)\n",
      "  (relu1): ReLU()\n",
      "  (relu2): ReLU()\n",
      "  (relu3): ReLU()\n",
      "  (relu4): ReLU()\n",
      "  (pool1): MaxPool2d(kernel_size=(2, 2), stride=(2, 2), padding=0, dilation=1, ceil_mode=False)\n",
      "  (pool2): MaxPool2d(kernel_size=(2, 2), stride=(2, 2), padding=0, dilation=1, ceil_mode=False)\n",
      ")\n"
     ]
    }
   ],
   "source": [
    "print(model)"
   ]
  },
  {
   "cell_type": "markdown",
   "metadata": {},
   "source": [
    "## Fine-tuning Compacted Model\n",
    "Note that if the model has been sped up, you need to re-initialize a new optimizer for fine-tuning.\n",
    "Because speedup will replace the masked big layers with dense small ones.\n",
    "\n"
   ]
  },
  {
   "cell_type": "code",
   "execution_count": 11,
   "metadata": {
    "collapsed": false,
    "jupyter": {
     "outputs_hidden": false
    }
   },
   "outputs": [],
   "source": [
    "optimizer = SGD(model.parameters(), 1e-2)\n",
    "for epoch in range(3):\n",
    "    trainer(model, optimizer, criterion)"
   ]
  },
  {
   "cell_type": "code",
   "execution_count": null,
   "metadata": {},
   "outputs": [],
   "source": []
  }
 ],
 "metadata": {
  "kernelspec": {
   "display_name": "Python 3 (ipykernel)",
   "language": "python",
   "name": "python3"
  },
  "language_info": {
   "codemirror_mode": {
    "name": "ipython",
    "version": 3
   },
   "file_extension": ".py",
   "mimetype": "text/x-python",
   "name": "python",
   "nbconvert_exporter": "python",
   "pygments_lexer": "ipython3",
   "version": "3.10.4"
  }
 },
 "nbformat": 4,
 "nbformat_minor": 4
}
