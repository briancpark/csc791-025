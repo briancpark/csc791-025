{
 "cells": [
  {
   "cell_type": "markdown",
   "metadata": {},
   "source": [
    "# Project 1: DNN Pruning via NNI\n",
    "Oliver Fowler, Brian Park\n",
    "\n",
    "This notebook contains a draft of the models we experimented with."
   ]
  },
  {
   "cell_type": "code",
   "execution_count": 1,
   "metadata": {},
   "outputs": [],
   "source": [
    "import torch\n",
    "import torch\n",
    "import torch.nn as nn\n",
    "import torch.nn.functional as F\n",
    "import torch.optim as optim\n",
    "from torch.optim import SGD\n",
    "from torchvision import datasets, transforms\n",
    "from torch.optim.lr_scheduler import StepLR\n",
    "from nni.compression.pytorch.pruning import L1NormPruner\n",
    "from nni.compression.pytorch.speedup import ModelSpeedup\n",
    "from tqdm import tqdm\n",
    "from torchviz import make_dot, make_dot_from_trace\n",
    "import sys\n",
    "import os\n",
    "\n",
    "device = torch.device(\n",
    "    \"mps\"\n",
    "    if torch.backends.mps.is_available()\n",
    "    else \"cuda\"\n",
    "    if torch.cuda.is_available()\n",
    "    else \"cpu\"\n",
    ")"
   ]
  },
  {
   "cell_type": "markdown",
   "metadata": {},
   "source": [
    "## MNIST CNN with PyTorch\n",
    "For the first exploration, we're going to use NNI to prune one of the examples from PyTorch that uses a simple CNN to train the MNIST dataset."
   ]
  },
  {
   "cell_type": "code",
   "execution_count": 2,
   "metadata": {},
   "outputs": [],
   "source": [
    "batch_size = 64\n",
    "test_batch_size = 1000\n",
    "epochs = 14\n",
    "lr = 1.0\n",
    "gamma = 0.7\n",
    "seed = 1\n",
    "arc_env = False"
   ]
  },
  {
   "cell_type": "code",
   "execution_count": 3,
   "metadata": {},
   "outputs": [],
   "source": [
    "class Net(nn.Module):\n",
    "    def __init__(self):\n",
    "        super(Net, self).__init__()\n",
    "        self.conv1 = nn.Conv2d(1, 32, 3, 1)\n",
    "        self.conv2 = nn.Conv2d(32, 64, 3, 1)\n",
    "        self.dropout1 = nn.Dropout(0.25)\n",
    "        self.dropout2 = nn.Dropout(0.5)\n",
    "        self.fc1 = nn.Linear(9216, 128)\n",
    "        self.fc2 = nn.Linear(128, 10)\n",
    "\n",
    "    def forward(self, x):\n",
    "        x = self.conv1(x)\n",
    "        x = F.relu(x)\n",
    "        x = self.conv2(x)\n",
    "        x = F.relu(x)\n",
    "        x = F.max_pool2d(x, 2)\n",
    "        x = self.dropout1(x)\n",
    "        x = torch.flatten(x, 1)\n",
    "        x = self.fc1(x)\n",
    "        x = F.relu(x)\n",
    "        x = self.dropout2(x)\n",
    "        x = self.fc2(x)\n",
    "        output = F.log_softmax(x, dim=1)\n",
    "        return output"
   ]
  },
  {
   "cell_type": "code",
   "execution_count": 4,
   "metadata": {},
   "outputs": [],
   "source": [
    "def train(model, device, train_loader, optimizer, criterion, epoch):\n",
    "    model.train()\n",
    "\n",
    "    for batch_idx, (data, target) in tqdm(enumerate(train_loader)):\n",
    "        data, target = data.to(device), target.to(device)\n",
    "        optimizer.zero_grad()\n",
    "        output = model(data)\n",
    "        loss = criterion(output, target)\n",
    "        loss.backward()\n",
    "        optimizer.step()\n",
    "\n",
    "def test(model, device, test_loader):\n",
    "    model.eval()\n",
    "    test_loss = 0\n",
    "    correct = 0\n",
    "    with torch.no_grad():\n",
    "        for data, target in test_loader:\n",
    "            data, target = data.to(device), target.to(device)\n",
    "            output = model(data)\n",
    "            test_loss += F.nll_loss(output, target, reduction='sum').item()  # sum up batch loss\n",
    "            pred = output.argmax(dim=1, keepdim=True)  # get the index of the max log-probability\n",
    "            correct += pred.eq(target.view_as(pred)).sum().item()\n",
    "\n",
    "    test_dataset_length = len(test_loader.dataset)\n",
    "    test_loss /= test_dataset_length\n",
    "    accuracy = 100. * correct / test_dataset_length\n",
    "    print('Average test loss: {:.4f}, Accuracy: {}/{} ({:.0f}%)'.format(test_loss, correct, test_dataset_length, accuracy))\n"
   ]
  },
  {
   "cell_type": "code",
   "execution_count": 5,
   "metadata": {},
   "outputs": [],
   "source": [
    "train_kwargs = {'batch_size': batch_size}\n",
    "test_kwargs = {'batch_size': test_batch_size}\n",
    "\n",
    "# If we're using NVIDIA, we can apply some more software/hardware optimizations if available\n",
    "if device.type == \"cuda\":\n",
    "    cuda_kwargs = {'num_workers': 1,\n",
    "                   'pin_memory': True,\n",
    "                   'shuffle': True}\n",
    "    train_kwargs.update(cuda_kwargs)\n",
    "    test_kwargs.update(cuda_kwargs)\n",
    "    model = torch.nn.DataParallel(model)\n",
    "    torch.backends.cudnn.benchmark = True"
   ]
  },
  {
   "cell_type": "code",
   "execution_count": 6,
   "metadata": {},
   "outputs": [],
   "source": [
    "transform = transforms.Compose([\n",
    "    transforms.ToTensor(),\n",
    "    transforms.Normalize((0.1307,), (0.3081,))\n",
    "])\n",
    "\n",
    "if arc_env:\n",
    "    dir = \"/mnt/beegfs/$USER/data/\"\n",
    "else:\n",
    "    dir = \"data\"\n",
    "\n",
    "dataset1 = datasets.MNIST(dir, train=True, download=True,\n",
    "                   transform=transform)\n",
    "dataset2 = datasets.MNIST(dir, train=False,\n",
    "                   transform=transform)\n",
    "\n",
    "train_loader = torch.utils.data.DataLoader(dataset1,**train_kwargs)\n",
    "test_loader = torch.utils.data.DataLoader(dataset2, **test_kwargs)\n",
    "\n",
    "model = Net().to(device)\n",
    "\n",
    "optimizer = optim.Adadelta(model.parameters(), lr=lr)\n",
    "scheduler = StepLR(optimizer, step_size=1, gamma=gamma)\n",
    "criterion = F.nll_loss"
   ]
  },
  {
   "cell_type": "code",
   "execution_count": 7,
   "metadata": {},
   "outputs": [],
   "source": [
    "# Unfortunatley, doesn't work on Mac\n",
    "if device.type != \"mps\":\n",
    "    batch = next(iter(train_loader))\n",
    "    yhat = model(batch[0])\n",
    "    make_dot(yhat, params=dict(list(model.named_parameters()))).render(\"figures/mnist_cnn\", format=\"png\")"
   ]
  },
  {
   "cell_type": "code",
   "execution_count": 8,
   "metadata": {},
   "outputs": [
    {
     "name": "stderr",
     "output_type": "stream",
     "text": [
      "938it [00:15, 61.12it/s]\n",
      "938it [00:15, 62.23it/s]\n",
      "938it [00:15, 61.34it/s]\n",
      "938it [00:14, 62.59it/s]\n",
      "938it [00:15, 62.05it/s]\n",
      "938it [00:15, 61.53it/s]\n",
      "938it [00:15, 62.32it/s]\n",
      "938it [00:15, 62.38it/s]\n",
      "938it [00:14, 62.69it/s]\n",
      "938it [00:14, 63.13it/s]\n",
      "938it [00:15, 61.61it/s]\n",
      "938it [00:14, 62.56it/s]\n",
      "938it [00:15, 62.00it/s]\n",
      "938it [00:15, 62.23it/s]\n"
     ]
    }
   ],
   "source": [
    "for epoch in range(1, epochs + 1):\n",
    "    train(model, device, train_loader, optimizer, criterion, epoch)\n",
    "    scheduler.step()"
   ]
  },
  {
   "cell_type": "code",
   "execution_count": 9,
   "metadata": {},
   "outputs": [],
   "source": [
    "if not os.path.isfile(\"models/mnist_cnn.pt\"):\n",
    "    torch.save(model, \"models/mnist_cnn.pt\")"
   ]
  },
  {
   "cell_type": "code",
   "execution_count": 31,
   "metadata": {},
   "outputs": [
    {
     "name": "stdout",
     "output_type": "stream",
     "text": [
      "Average test loss: 0.0267, Accuracy: 9918/10000 (99%)\n"
     ]
    }
   ],
   "source": [
    "test(model, device, test_loader)"
   ]
  },
  {
   "cell_type": "markdown",
   "metadata": {},
   "source": [
    "## NNI Pruning\n",
    "We've finished training and evaluating the model. Now we can prune the model and see what speedups and improvements on accuracy that we can get."
   ]
  },
  {
   "cell_type": "code",
   "execution_count": 36,
   "metadata": {},
   "outputs": [],
   "source": [
    "model = torch.load(\"models/mnist_cnn.pt\")\n",
    "device = torch.device(\"cpu\")\n",
    "model = model.to(device)"
   ]
  },
  {
   "cell_type": "code",
   "execution_count": 37,
   "metadata": {},
   "outputs": [],
   "source": [
    "config_list = [{\n",
    "    'sparsity_per_layer': 0.5,\n",
    "    'op_types': ['Conv2d', 'Linear']\n",
    "}, {\n",
    "    'exclude': True,\n",
    "    'op_names': ['fc2']\n",
    "}]"
   ]
  },
  {
   "cell_type": "code",
   "execution_count": 38,
   "metadata": {},
   "outputs": [],
   "source": [
    "pruner = L1NormPruner(model, config_list)"
   ]
  },
  {
   "cell_type": "code",
   "execution_count": 39,
   "metadata": {},
   "outputs": [
    {
     "name": "stdout",
     "output_type": "stream",
     "text": [
      "Net(\n",
      "  (conv1): PrunerModuleWrapper(\n",
      "    (module): Conv2d(1, 32, kernel_size=(3, 3), stride=(1, 1))\n",
      "  )\n",
      "  (conv2): PrunerModuleWrapper(\n",
      "    (module): Conv2d(32, 64, kernel_size=(3, 3), stride=(1, 1))\n",
      "  )\n",
      "  (dropout1): Dropout(p=0.25, inplace=False)\n",
      "  (dropout2): Dropout(p=0.5, inplace=False)\n",
      "  (fc1): PrunerModuleWrapper(\n",
      "    (module): Linear(in_features=9216, out_features=128, bias=True)\n",
      "  )\n",
      "  (fc2): Linear(in_features=128, out_features=10, bias=True)\n",
      ")\n"
     ]
    }
   ],
   "source": [
    "print(model)"
   ]
  },
  {
   "cell_type": "code",
   "execution_count": 40,
   "metadata": {},
   "outputs": [
    {
     "name": "stdout",
     "output_type": "stream",
     "text": [
      "conv1  sparsity :  0.5\n",
      "conv2  sparsity :  0.5\n",
      "fc1  sparsity :  0.5\n"
     ]
    }
   ],
   "source": [
    "# compress the model and generate the masks\n",
    "_, masks = pruner.compress()\n",
    "# # show the masks sparsity\n",
    "for name, mask in masks.items():\n",
    "    print(name, ' sparsity : ', '{:.2}'.format(mask['weight'].sum() / mask['weight'].numel()))"
   ]
  },
  {
   "cell_type": "code",
   "execution_count": 42,
   "metadata": {},
   "outputs": [
    {
     "name": "stdout",
     "output_type": "stream",
     "text": [
      "[2022-09-24 21:36:02] \u001b[32mstart to speedup the model\u001b[0m\n",
      "[2022-09-24 21:36:02] \u001b[32minfer module masks...\u001b[0m\n",
      "[2022-09-24 21:36:02] \u001b[32mUpdate mask for conv1\u001b[0m\n",
      "[2022-09-24 21:36:02] \u001b[32mUpdate mask for .aten::relu.6\u001b[0m\n",
      "[2022-09-24 21:36:02] \u001b[32mUpdate mask for conv2\u001b[0m\n",
      "[2022-09-24 21:36:02] \u001b[32mUpdate mask for .aten::relu.7\u001b[0m\n",
      "[2022-09-24 21:36:02] \u001b[32mUpdate mask for .aten::max_pool2d.8\u001b[0m\n",
      "[2022-09-24 21:36:02] \u001b[32mUpdate mask for dropout1\u001b[0m\n",
      "[2022-09-24 21:36:02] \u001b[32mUpdate mask for .aten::flatten.9\u001b[0m\n",
      "[2022-09-24 21:36:02] \u001b[32mUpdate mask for fc1\u001b[0m\n",
      "[2022-09-24 21:36:02] \u001b[32mUpdate mask for .aten::relu.10\u001b[0m\n",
      "[2022-09-24 21:36:02] \u001b[32mUpdate mask for dropout2\u001b[0m\n",
      "[2022-09-24 21:36:02] \u001b[32mUpdate mask for fc2\u001b[0m\n",
      "[2022-09-24 21:36:02] \u001b[32mUpdate mask for .aten::log_softmax.11\u001b[0m\n",
      "[2022-09-24 21:36:02] \u001b[32mUpdate the indirect sparsity for the .aten::log_softmax.11\u001b[0m\n",
      "[2022-09-24 21:36:02] \u001b[32mUpdate the indirect sparsity for the fc2\u001b[0m\n",
      "[2022-09-24 21:36:02] \u001b[32mUpdate the indirect sparsity for the dropout2\u001b[0m\n",
      "[2022-09-24 21:36:02] \u001b[32mUpdate the indirect sparsity for the .aten::relu.10\u001b[0m\n",
      "[2022-09-24 21:36:02] \u001b[32mUpdate the indirect sparsity for the fc1\u001b[0m\n",
      "[2022-09-24 21:36:02] \u001b[32mUpdate the indirect sparsity for the .aten::flatten.9\u001b[0m\n",
      "[2022-09-24 21:36:02] \u001b[32mUpdate the indirect sparsity for the dropout1\u001b[0m\n",
      "[2022-09-24 21:36:02] \u001b[32mUpdate the indirect sparsity for the .aten::max_pool2d.8\u001b[0m\n",
      "[2022-09-24 21:36:02] \u001b[32mUpdate the indirect sparsity for the .aten::relu.7\u001b[0m\n",
      "[2022-09-24 21:36:02] \u001b[32mUpdate the indirect sparsity for the conv2\u001b[0m\n",
      "[2022-09-24 21:36:02] \u001b[32mUpdate the indirect sparsity for the .aten::relu.6\u001b[0m\n",
      "[2022-09-24 21:36:02] \u001b[32mUpdate the indirect sparsity for the conv1\u001b[0m\n",
      "[2022-09-24 21:36:02] \u001b[32mresolve the mask conflict\u001b[0m\n",
      "[2022-09-24 21:36:02] \u001b[32mreplace compressed modules...\u001b[0m\n",
      "[2022-09-24 21:36:02] \u001b[32mreplace module (name: conv1, op_type: Conv2d)\u001b[0m\n",
      "[2022-09-24 21:36:02] \u001b[32mreplace module (name: conv2, op_type: Conv2d)\u001b[0m\n",
      "[2022-09-24 21:36:02] \u001b[32mreplace module (name: dropout1, op_type: Dropout)\u001b[0m\n",
      "[2022-09-24 21:36:02] \u001b[32mreplace module (name: fc1, op_type: Linear)\u001b[0m\n",
      "[2022-09-24 21:36:02] \u001b[32mreplace linear with new in_features: 4608, out_features: 64\u001b[0m\n",
      "[2022-09-24 21:36:02] \u001b[32mreplace module (name: dropout2, op_type: Dropout)\u001b[0m\n",
      "[2022-09-24 21:36:02] \u001b[32mreplace module (name: fc2, op_type: Linear)\u001b[0m\n",
      "[2022-09-24 21:36:02] \u001b[32mreplace linear with new in_features: 64, out_features: 10\u001b[0m\n",
      "[2022-09-24 21:36:02] \u001b[32mspeedup done\u001b[0m\n"
     ]
    },
    {
     "name": "stderr",
     "output_type": "stream",
     "text": [
      "/Users/briancpark/miniforge3/envs/csc791/lib/python3.10/site-packages/torch/_tensor.py:1083: UserWarning: The .grad attribute of a Tensor that is not a leaf Tensor is being accessed. Its .grad attribute won't be populated during autograd.backward(). If you indeed want the .grad field to be populated for a non-leaf Tensor, use .retain_grad() on the non-leaf Tensor. If you access the non-leaf Tensor by mistake, make sure you access the leaf Tensor instead. See github.com/pytorch/pytorch/pull/30531 for more informations. (Triggered internally at  /Users/runner/work/_temp/anaconda/conda-bld/pytorch_1659484612588/work/build/aten/src/ATen/core/TensorBody.h:482.)\n",
      "  return self._grad\n"
     ]
    }
   ],
   "source": [
    "# need to unwrap the model, if the model is wrapped before speedup\n",
    "pruner._unwrap_model()\n",
    "ModelSpeedup(model, torch.rand(3, 1, 28, 28).to(device), masks).speedup_model()"
   ]
  },
  {
   "cell_type": "code",
   "execution_count": 43,
   "metadata": {},
   "outputs": [
    {
     "name": "stdout",
     "output_type": "stream",
     "text": [
      "Net(\n",
      "  (conv1): Conv2d(1, 16, kernel_size=(3, 3), stride=(1, 1))\n",
      "  (conv2): Conv2d(16, 32, kernel_size=(3, 3), stride=(1, 1))\n",
      "  (dropout1): Dropout(p=0.25, inplace=False)\n",
      "  (dropout2): Dropout(p=0.5, inplace=False)\n",
      "  (fc1): Linear(in_features=4608, out_features=64, bias=True)\n",
      "  (fc2): Linear(in_features=64, out_features=10, bias=True)\n",
      ")\n"
     ]
    }
   ],
   "source": [
    "print(model)"
   ]
  },
  {
   "cell_type": "code",
   "execution_count": 44,
   "metadata": {},
   "outputs": [
    {
     "data": {
      "text/plain": [
       "<generator object Module.parameters at 0x1685cfed0>"
      ]
     },
     "execution_count": 44,
     "metadata": {},
     "output_type": "execute_result"
    }
   ],
   "source": [
    "model.parameters()"
   ]
  },
  {
   "cell_type": "code",
   "execution_count": 46,
   "metadata": {},
   "outputs": [
    {
     "name": "stderr",
     "output_type": "stream",
     "text": [
      "100%|█████████████████████████████████████████████| 3/3 [01:23<00:00, 27.93s/it]\n"
     ]
    }
   ],
   "source": [
    "optimizer = SGD(model.parameters(), 1e-2)\n",
    "for epoch in range(3):\n",
    "    train(model, device, train_loader, optimizer, criterion, epoch)"
   ]
  },
  {
   "cell_type": "code",
   "execution_count": 47,
   "metadata": {},
   "outputs": [
    {
     "name": "stdout",
     "output_type": "stream",
     "text": [
      "Average test loss: 0.0298, Accuracy: 9900/10000 (99%)\n"
     ]
    }
   ],
   "source": [
    "test(model, device, test_loader)"
   ]
  }
 ],
 "metadata": {
  "kernelspec": {
   "display_name": "Python 3 (ipykernel)",
   "language": "python",
   "name": "python3"
  },
  "language_info": {
   "codemirror_mode": {
    "name": "ipython",
    "version": 3
   },
   "file_extension": ".py",
   "mimetype": "text/x-python",
   "name": "python",
   "nbconvert_exporter": "python",
   "pygments_lexer": "ipython3",
   "version": "3.10.6"
  }
 },
 "nbformat": 4,
 "nbformat_minor": 4
}
